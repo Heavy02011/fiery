{
 "cells": [
  {
   "cell_type": "code",
   "execution_count": 1,
   "id": "de8a6513-15c8-4d28-b2a1-2d51a226cd48",
   "metadata": {},
   "outputs": [
    {
     "name": "stdout",
     "output_type": "stream",
     "text": [
      "/home/rainer/mambaforge-pypy3/envs/fiery/lib/python3.8/site-packages/torchvision/io/image.py:13: UserWarning: Failed to load image Python extension: /home/rainer/mambaforge-pypy3/envs/fiery/lib/python3.8/site-packages/torchvision/image.so: undefined symbol: _ZN2at4_ops19empty_memory_format4callEN3c108ArrayRefIlEENS2_8optionalINS2_10ScalarTypeEEENS5_INS2_6LayoutEEENS5_INS2_6DeviceEEENS5_IbEENS5_INS2_12MemoryFormatEEE\n",
      "  warn(f\"Failed to load image Python extension: {e}\")\n",
      "Loaded pretrained weights for efficientnet-b4\n",
      "/home/rainer/mambaforge-pypy3/envs/fiery/lib/python3.8/site-packages/torchvision/models/_utils.py:208: UserWarning: The parameter 'pretrained' is deprecated since 0.13 and will be removed in 0.15, please use 'weights' instead.\n",
      "  warnings.warn(\n",
      "/home/rainer/mambaforge-pypy3/envs/fiery/lib/python3.8/site-packages/torchvision/models/_utils.py:223: UserWarning: Arguments other than a weight enum or `None` for 'weights' are deprecated since 0.13 and will be removed in 0.15. The current behavior is equivalent to passing `weights=None`.\n",
      "  warnings.warn(msg)\n",
      "example_data/example_1.npz\n",
      "Loaded data from example_data/example_1.npz\n",
      "Image shape: torch.Size([1, 3, 6, 3, 224, 480])\n",
      "Intrinsics shape: torch.Size([1, 3, 6, 3, 3])\n",
      "Extrinsics shape: torch.Size([1, 3, 6, 4, 4])\n",
      "Future egomotion shape: torch.Size([1, 3, 6])\n",
      "['image', 'intrinsics', 'extrinsics', 'future_egomotion']\n",
      "image (1, 3, 6, 3, 224, 480)\n",
      "intrinsics (1, 3, 6, 3, 3)\n",
      "extrinsics (1, 3, 6, 4, 4)\n",
      "future_egomotion (1, 3, 6)\n",
      "/home/rainer/mambaforge-pypy3/envs/fiery/lib/python3.8/site-packages/torch/functional.py:505: UserWarning: torch.meshgrid: in an upcoming release, it will be required to pass the indexing argument. (Triggered internally at /opt/pytorch/pytorch/aten/src/ATen/native/TensorShape.cpp:3490.)\n",
      "  return _VF.meshgrid(tensors, **kwargs)  # type: ignore[attr-defined]\n",
      "Saved output in ./output_vis/example_1.png\n",
      "example_data/example_2.npz\n",
      "Loaded data from example_data/example_2.npz\n",
      "Image shape: torch.Size([1, 3, 6, 3, 224, 480])\n",
      "Intrinsics shape: torch.Size([1, 3, 6, 3, 3])\n",
      "Extrinsics shape: torch.Size([1, 3, 6, 4, 4])\n",
      "Future egomotion shape: torch.Size([1, 3, 6])\n",
      "['image', 'intrinsics', 'extrinsics', 'future_egomotion']\n",
      "image (1, 3, 6, 3, 224, 480)\n",
      "intrinsics (1, 3, 6, 3, 3)\n",
      "extrinsics (1, 3, 6, 4, 4)\n",
      "future_egomotion (1, 3, 6)\n",
      "Saved output in ./output_vis/example_2.png\n",
      "example_data/example_3.npz\n",
      "Loaded data from example_data/example_3.npz\n",
      "Image shape: torch.Size([1, 3, 6, 3, 224, 480])\n",
      "Intrinsics shape: torch.Size([1, 3, 6, 3, 3])\n",
      "Extrinsics shape: torch.Size([1, 3, 6, 4, 4])\n",
      "Future egomotion shape: torch.Size([1, 3, 6])\n",
      "['image', 'intrinsics', 'extrinsics', 'future_egomotion']\n",
      "image (1, 3, 6, 3, 224, 480)\n",
      "intrinsics (1, 3, 6, 3, 3)\n",
      "extrinsics (1, 3, 6, 4, 4)\n",
      "future_egomotion (1, 3, 6)\n",
      "Saved output in ./output_vis/example_3.png\n",
      "example_data/example_4.npz\n",
      "Loaded data from example_data/example_4.npz\n",
      "Image shape: torch.Size([1, 3, 6, 3, 224, 480])\n",
      "Intrinsics shape: torch.Size([1, 3, 6, 3, 3])\n",
      "Extrinsics shape: torch.Size([1, 3, 6, 4, 4])\n",
      "Future egomotion shape: torch.Size([1, 3, 6])\n",
      "['image', 'intrinsics', 'extrinsics', 'future_egomotion']\n",
      "image (1, 3, 6, 3, 224, 480)\n",
      "intrinsics (1, 3, 6, 3, 3)\n",
      "extrinsics (1, 3, 6, 4, 4)\n",
      "future_egomotion (1, 3, 6)\n",
      "Saved output in ./output_vis/example_4.png\n"
     ]
    }
   ],
   "source": [
    "!python /home/rainer/dev/fiery/visualise.py --checkpoint /home/rainer/dev/fiery/fiery.ckpt "
   ]
  },
  {
   "cell_type": "code",
   "execution_count": null,
   "id": "d2067fcc-2a25-4b0e-8907-baf42a65b1c9",
   "metadata": {},
   "outputs": [],
   "source": []
  },
  {
   "cell_type": "code",
   "execution_count": null,
   "id": "6ec75bb8-86e3-44f0-a3cc-f1c8ffdf9747",
   "metadata": {},
   "outputs": [],
   "source": []
  }
 ],
 "metadata": {
  "kernelspec": {
   "display_name": "Python 3 (ipykernel)",
   "language": "python",
   "name": "python3"
  },
  "language_info": {
   "codemirror_mode": {
    "name": "ipython",
    "version": 3
   },
   "file_extension": ".py",
   "mimetype": "text/x-python",
   "name": "python",
   "nbconvert_exporter": "python",
   "pygments_lexer": "ipython3",
   "version": "3.8.18"
  }
 },
 "nbformat": 4,
 "nbformat_minor": 5
}
